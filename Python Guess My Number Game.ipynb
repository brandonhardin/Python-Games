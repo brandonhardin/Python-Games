{
 "cells": [
  {
   "cell_type": "code",
   "execution_count": 1,
   "metadata": {
    "collapsed": false
   },
   "outputs": [
    {
     "name": "stdout",
     "output_type": "stream",
     "text": [
      "\tWelcome.  I'm going to guess which number you are thinking.\n",
      "\n",
      "\n",
      "Guess a number between 1 and 100\n",
      "\n",
      "\n",
      "When you're ready, press Enter\n",
      "\n",
      "Is your number 50? Press 1 for Higher, 2 for Lower, 3 for Correct...\n",
      "1\n",
      "Is your number 75? Press 1 for Higher, 2 for Lower, 3 for Correct...\n",
      "1\n",
      "Is your number 88? Press 1 for Higher, 2 for Lower, 3 for Correct...\n",
      "2\n",
      "Is your number 81? Press 1 for Higher, 2 for Lower, 3 for Correct...\n",
      "3\n",
      "I've got it!  Your number is 81 !  And it only took me 4 tries!\n"
     ]
    }
   ],
   "source": [
    "menu={'1':\"toohigh\", '2':\"toolow\", '3':\"correct\"}\n",
    "\n",
    "def header():\n",
    "    print(\"\\tWelcome.  I'm going to guess which number you are thinking.\\n\")\n",
    "    print(\"\\nGuess a number between 1 and 100\\n\")\n",
    "    input(\"\\nWhen you're ready, press Enter\\n\")\n",
    "\n",
    "def bisector(low,high):\n",
    "    return (round(low+high)//2)\n",
    "\n",
    "def getresponse():\n",
    "    response=input()\n",
    "    return response\n",
    "\n",
    "def main():\n",
    "    header()\n",
    "    high=101\n",
    "    low=0\n",
    "    tries=0\n",
    "    gameover=False\n",
    "    guess=\"\"\n",
    "    \n",
    "    while(gameover==False):\n",
    "        guess=bisector(high,low)\n",
    "        print(\"Is your number \" +str(guess)+\"? Press 1 for Higher, 2 for Lower, 3 for Correct...\")\n",
    "\n",
    "        user_response=getresponse()\n",
    "        if menu[user_response]==\"toolow\":\n",
    "            high=guess\n",
    "        elif menu[user_response]==\"toohigh\":\n",
    "            low=guess\n",
    "        else:gameover=True\n",
    "        tries+=1\n",
    "\n",
    "    print(\"I've got it!  Your number is\", guess,\"!  And it only took me\", tries,\"tries!\")\n",
    "        \n",
    "if __name__==\"__main__\":\n",
    "    main()\n",
    " "
   ]
  },
  {
   "cell_type": "code",
   "execution_count": null,
   "metadata": {
    "collapsed": true
   },
   "outputs": [],
   "source": []
  }
 ],
 "metadata": {
  "kernelspec": {
   "display_name": "Python 3",
   "language": "python",
   "name": "python3"
  },
  "language_info": {
   "codemirror_mode": {
    "name": "ipython",
    "version": 3
   },
   "file_extension": ".py",
   "mimetype": "text/x-python",
   "name": "python",
   "nbconvert_exporter": "python",
   "pygments_lexer": "ipython3",
   "version": "3.6.0"
  }
 },
 "nbformat": 4,
 "nbformat_minor": 2
}
