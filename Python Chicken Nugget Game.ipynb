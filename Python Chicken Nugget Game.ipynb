{
 "cells": [
  {
   "cell_type": "code",
   "execution_count": null,
   "metadata": {
    "collapsed": true
   },
   "outputs": [],
   "source": [
    "def main():\n",
    "    counter=0\n",
    "    contender=1\n",
    "    biggest=0       \n",
    "    six=6\n",
    "    while(counter<six):\n",
    "        if(McNugget_number(contender)):\n",
    "            counter+=1\n",
    "        else:\n",
    "            biggest=contender\n",
    "            counter=0\n",
    "        contender+=1\n",
    "    print(biggest)\n",
    "def McNugget_number(num, a=6, b=9, c=20):\n",
    "    for i in range (num//a+1):\n",
    "        for j in range (num//b+1):\n",
    "            for k in range (num//c+1):\n",
    "                if (a*i+b*j+c*k==num):\n",
    "                    return True\n",
    "main()\n",
    "print(\"The answer to the McNuggets question is 43.\")\n",
    "    \n"
   ]
  },
  {
   "cell_type": "code",
   "execution_count": null,
   "metadata": {
    "collapsed": true
   },
   "outputs": [],
   "source": []
  },
  {
   "cell_type": "code",
   "execution_count": null,
   "metadata": {
    "collapsed": true
   },
   "outputs": [],
   "source": []
  },
  {
   "cell_type": "code",
   "execution_count": null,
   "metadata": {
    "collapsed": true
   },
   "outputs": [],
   "source": []
  },
  {
   "cell_type": "code",
   "execution_count": null,
   "metadata": {
    "collapsed": true
   },
   "outputs": [],
   "source": []
  },
  {
   "cell_type": "code",
   "execution_count": null,
   "metadata": {
    "collapsed": true
   },
   "outputs": [],
   "source": []
  }
 ],
 "metadata": {
  "kernelspec": {
   "display_name": "Python 3",
   "language": "python",
   "name": "python3"
  }
 },
 "nbformat": 4,
 "nbformat_minor": 2
}
